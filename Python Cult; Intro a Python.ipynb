{
 "cells": [
  {
   "cell_type": "markdown",
   "metadata": {},
   "source": [
    "# Python"
   ]
  },
  {
   "cell_type": "markdown",
   "metadata": {},
   "source": [
    "## Un poco de historia"
   ]
  },
  {
   "cell_type": "markdown",
   "metadata": {},
   "source": [
    "Python en un lenguaje de programación de 'alto nivel' (básicamente interpretado, no requiere compilación) creado por Guido van Rossum a finales de los 80 en los Paises Bajos. \n",
    "\n",
    "Durante los 90 fue desasrrollado y mantenido como un proyecto abierto en el Intituto Nacional de Matemáticas y Ciencias Computacionales y en 2000 fue lazado python 2 y fue adoptado rápidamente por múltiples grupos de desarrolladores de diversas áreas; animación,  gaming,  aplicaciones, páginas web, etc.\n",
    "\n",
    "Python fue desarrollado como un leguaje general, sin un propósito específico, a diferencia de R o MATLAB cuya estructura y organización reflejan claramente el propósito y la demografía para los que fueron creados. Esto implica que Python ha crecido en todo el espectro de posibles aplicaciones de un lenguaje de programación y el cómputo científico no es la excepción, especialmente en la última década.\n",
    "\n",
    "En este sentido se han desarrollado en Python varias bibliotecas específicamente con el objetivo de realizar trabajo científico, no sólo tareas de cómputo numérico de alta demanda (matrices and shit)(Numpy), sino además gráficos altamente descriptivos (anotaciones, multiples páneles, etc.)  (matplotlib), manipulación y análisis de datos (Pandas), gráficos estadísticos (Seaborn), análisis y procesamiento de señales (Scipy), simulaciones (Simpy), organización y análisis de señales electrofiológicas (elephant), incluso hay programas para manejar amplificadores y adiquirir señales de patch-clamp desarrollado totalmente en Python."
   ]
  },
  {
   "cell_type": "markdown",
   "metadata": {},
   "source": [
    "## ¿Por qué aprender a programar?"
   ]
  },
  {
   "cell_type": "markdown",
   "metadata": {},
   "source": [
    "La respuesta sencilla: estas en una gran desventaja como científico en este momento si no sabes programar. \n",
    "\n",
    "¿Has leído algún paper con un método de análisis remamón altamente novedoso resumido en un parrafito? Olvídate de que este implementado en Clampfit o Sigma.\n",
    "\n",
    "¿Has tenido que realizar la peregrinación por 4 o 5 programas de software de propietario diferentes para poder realizar un experimento, extraer datos, limpiarlos, realizar estadística (por básica que sea) y hacer grafiquitas que después todavía tendrás que hermosear en un editor de gráficos para hacer un figura?\n",
    "\n",
    "¿Está tu computadora llena de versiones pirata de estos programas porque de otra forma no podrías ni trabajar?\n",
    "\n",
    "Hay múltiples razones por las que esta era la forma prevalente de trabajar muchísima gente; codicia corporativa, inercia, fé ciega en soluciones prefabricadas, etc. Sin embargo, la principal razón en esta era es simplemente incompetencia computacional.\n",
    "Todas estas tareas pueden realizarse en un solo ambiente con una claridad y reproducibilidad y con un gran nivel de eficiencia una vez superada la curva de apredizaje.\n",
    "\n",
    "La habilidad de escribir código, programar, es una de las habilidades técnicas más valoradas en nuestra época. Las aplicaciones de la programación son literalmente infinitas. Adicionalmente, integrar la programación en tu flujo de trabajo científico desarrolla paralelamente otras habilidades y aptitudes como disciplina (ese código no se va a escribir por sí mismo),  organización y sofisticación técnica."
   ]
  },
  {
   "cell_type": "markdown",
   "metadata": {},
   "source": [
    "## ¿Por qué Python?"
   ]
  },
  {
   "cell_type": "markdown",
   "metadata": {},
   "source": [
    "Python, como ya se mencionó, es un lenguaje de programación de propósito general. Esta es una característica que no puede ser sobrestimada y forma parte de los conceptos centrales alrededor de los cuales fue desarrollado Python junto con un alto énfasis en la legibilidad del código y en la sencillez de las implementaciones. Estos principios influyen ampliamente en la forma en que la comunidad de Python colabora y escribe código y se encuentran estipulados en lo que se conoce como el zen de Python.\n",
    "\n",
    "### The Zen of Python\n",
    "\n",
    "Beautiful is better than ugly.\n",
    "\n",
    "Explicit is better than implicit.\n",
    "\n",
    "Simple is better than complex.\n",
    "\n",
    "Complex is better than complicated.\n",
    "\n",
    "Flat is better than nested.\n",
    "\n",
    "Sparse is better than dense.\n",
    "\n",
    "Readability counts.\n",
    "\n",
    "Special cases aren't special enough to break the rules.\n",
    "\n",
    "Although practicality beats purity.\n",
    "\n",
    "Errors should never pass silently.\n",
    "\n",
    "Unless explicitly silenced.\n",
    "\n",
    "In the face of ambiguity, refuse the temptation to guess.\n",
    "\n",
    "There should be one-- and preferably only one --obvious way to do it.\n",
    "\n",
    "Although that way may not be obvious at first unless you're Dutch.\n",
    "\n",
    "Now is better than never.\n",
    "\n",
    "Although never is often better than *right* now.\n",
    "\n",
    "If the implementation is hard to explain, it's a bad idea.\n",
    "\n",
    "If the implementation is easy to explain, it may be a good idea.\n",
    "\n",
    "Namespaces are one honking great idea -- let's do more of those!\n",
    "\n",
    "Como pueden ver Python tiene principios claros para el desarrollo de código que enfatizan aspectos estéticos y pragmáticos. Además, la comunidad de Python, los libros y bibliotecas desarrollados para Python contienen en general aspectos humorísticos que relajan el discurso y el ambiente de programación que solían ser insufriblemente técnicos y solemnes. \n",
    "De hecho, el nombre de Python deriva de la afición de Guido por Monty Python, el grupo de comedia británico."
   ]
  },
  {
   "cell_type": "markdown",
   "metadata": {},
   "source": [
    "## So, let's get at it"
   ]
  },
  {
   "cell_type": "markdown",
   "metadata": {},
   "source": [
    "Por tradición empezaremos con imprimir en la pantalla una oración: 'Hello World'"
   ]
  },
  {
   "cell_type": "code",
   "execution_count": 1,
   "metadata": {},
   "outputs": [
    {
     "name": "stdout",
     "output_type": "stream",
     "text": [
      "Hello World\n"
     ]
    }
   ],
   "source": [
    "print('Hello World') # print() es una función incorporada en Python base o Python puro\n",
    "                     # acepta un solo argumento, el cual puede ser cualquier cosa y la despliega en pantalla"
   ]
  },
  {
   "cell_type": "markdown",
   "metadata": {},
   "source": [
    "## Asignación de variable"
   ]
  },
  {
   "cell_type": "code",
   "execution_count": 2,
   "metadata": {},
   "outputs": [
    {
     "data": {
      "text/plain": [
       "1"
      ]
     },
     "execution_count": 2,
     "metadata": {},
     "output_type": "execute_result"
    }
   ],
   "source": [
    "a = 1 # 'a' es el nombre de nuestra nueva variable y se le asigna el valor 1(int)\n",
    "      # en Python todos los nombres de variable deben empezar con una letra\n",
    "a     # nos devuelve su valor"
   ]
  },
  {
   "cell_type": "markdown",
   "metadata": {},
   "source": [
    "## Tipos de variable incorporados en Python base"
   ]
  },
  {
   "cell_type": "markdown",
   "metadata": {},
   "source": [
    "Variables númericas principales:"
   ]
  },
  {
   "cell_type": "code",
   "execution_count": 3,
   "metadata": {},
   "outputs": [
    {
     "data": {
      "text/plain": [
       "int"
      ]
     },
     "execution_count": 3,
     "metadata": {},
     "output_type": "execute_result"
    }
   ],
   "source": [
    "type(1) # type() es una función incorporada;\n",
    "        # devuelve el tipo de variable al que corresponde lo que pasemos como argumento"
   ]
  },
  {
   "cell_type": "code",
   "execution_count": 4,
   "metadata": {},
   "outputs": [
    {
     "name": "stdout",
     "output_type": "stream",
     "text": [
      "<class 'int'>\n",
      "<class 'float'>\n"
     ]
    }
   ],
   "source": [
    "# Existen dos tipos principales de variables numéricas: int (integer) y float (decimal)\n",
    "\n",
    "print(type(1))\n",
    "\n",
    "print(type(1.5))"
   ]
  },
  {
   "cell_type": "markdown",
   "metadata": {},
   "source": [
    "Así mismo, Python incorpora las clásicas variables booleanas: ==, !=, >, ≥, ≤, <\n",
    "Todas pueden adquirir los valores True y False"
   ]
  },
  {
   "cell_type": "code",
   "execution_count": 5,
   "metadata": {},
   "outputs": [
    {
     "name": "stdout",
     "output_type": "stream",
     "text": [
      "True\n",
      "True\n",
      "False\n",
      "True\n"
     ]
    }
   ],
   "source": [
    "print(1 == 1) # igualdad\n",
    "print(1 != 2) # desigualdad\n",
    "print(1 > 2)  # menor que\n",
    "print((1 > 2) or (1 < 2)) \n",
    "              # también se encuentran incorporados los operadores comunes: or y and"
   ]
  },
  {
   "cell_type": "markdown",
   "metadata": {},
   "source": [
    "Por último tenemos las 'strings' (cuerdas?), las cuales son series de caracteres entre comillas, (Python acepta comillas simples '' o dobles \"\", indistintamente). Strings aceptan cualqueir tipo de caracter."
   ]
  },
  {
   "cell_type": "code",
   "execution_count": 6,
   "metadata": {},
   "outputs": [
    {
     "name": "stdout",
     "output_type": "stream",
     "text": [
      "this is a string\n"
     ]
    },
    {
     "ename": "TypeError",
     "evalue": "'str' object does not support item assignment",
     "output_type": "error",
     "traceback": [
      "\u001b[1;31m---------------------------------------------------------------------------\u001b[0m",
      "\u001b[1;31mTypeError\u001b[0m                                 Traceback (most recent call last)",
      "\u001b[1;32m<ipython-input-6-c6e0484bcd0b>\u001b[0m in \u001b[0;36m<module>\u001b[1;34m()\u001b[0m\n\u001b[0;32m      1\u001b[0m \u001b[0ma_string\u001b[0m \u001b[1;33m=\u001b[0m \u001b[1;34m'this is a string'\u001b[0m\u001b[1;33m\u001b[0m\u001b[0m\n\u001b[0;32m      2\u001b[0m \u001b[0mprint\u001b[0m\u001b[1;33m(\u001b[0m\u001b[0ma_string\u001b[0m\u001b[1;33m)\u001b[0m\u001b[1;33m\u001b[0m\u001b[0m\n\u001b[1;32m----> 3\u001b[1;33m \u001b[0ma_string\u001b[0m\u001b[1;33m[\u001b[0m\u001b[1;36m0\u001b[0m\u001b[1;33m]\u001b[0m\u001b[1;33m=\u001b[0m \u001b[1;34m's'\u001b[0m    \u001b[1;31m# strings son variables inmutables\u001b[0m\u001b[1;33m\u001b[0m\u001b[0m\n\u001b[0m",
      "\u001b[1;31mTypeError\u001b[0m: 'str' object does not support item assignment"
     ]
    }
   ],
   "source": [
    "a_string = 'this is a string'\n",
    "print(a_string)\n",
    "a_string[0]= 's'    # strings son variables inmutables"
   ]
  },
  {
   "cell_type": "markdown",
   "metadata": {},
   "source": [
    "## Estructuras de datos"
   ]
  },
  {
   "cell_type": "markdown",
   "metadata": {},
   "source": [
    "## Lista"
   ]
  },
  {
   "cell_type": "markdown",
   "metadata": {},
   "source": [
    "Las listas son series heterogéneas y mutables de cero o cualquier número de objetos de Python. Esto quiere decir que son colecciones de objetos o referencias (variables) a objetos de cualquier tipo (i.e. int, float, string, etc) y que pueden ser modificados después de crearse.\n",
    "\n",
    "Se definen como variables u objetos separados por comas y encerrados en corchetes."
   ]
  },
  {
   "cell_type": "code",
   "execution_count": 7,
   "metadata": {},
   "outputs": [
    {
     "data": {
      "text/plain": [
       "[1, 2.2, 'east']"
      ]
     },
     "execution_count": 7,
     "metadata": {},
     "output_type": "execute_result"
    }
   ],
   "source": [
    "new_list = [1, 2.2, 'east'] # Esto es una lista\n",
    "new_list"
   ]
  },
  {
   "cell_type": "markdown",
   "metadata": {},
   "source": [
    "Las listas son mutables; uno puede cambiar su contenido incluso después de crearlas."
   ]
  },
  {
   "cell_type": "code",
   "execution_count": 8,
   "metadata": {},
   "outputs": [
    {
     "data": {
      "text/plain": [
       "[5, 2.2, 'east', 'west']"
      ]
     },
     "execution_count": 8,
     "metadata": {},
     "output_type": "execute_result"
    }
   ],
   "source": [
    "new_list[0] = 5         # en Python usamos [] para indexar \n",
    "                        # (seleccionar un elemento dentro de un estructura) \n",
    "                        # los índices en Python siempre inician en cero; [0] \n",
    "                        # por lo tanto aquí estamos seleccionando y reasignando \n",
    "                        # el primer elemento en la lista\n",
    "\n",
    "\n",
    "new_list.append('west') # append() es un método del objeto lista\n",
    "                        # permite la adición de un nuevo elemento\n",
    "                        # append() solo admite un argumento (el objeto a añadir)\n",
    "                        # append() siempre inserta los nuevos elementos al final\n",
    "new_list"
   ]
  },
  {
   "cell_type": "code",
   "execution_count": 9,
   "metadata": {},
   "outputs": [
    {
     "name": "stdout",
     "output_type": "stream",
     "text": [
      "[5, 2.2, 'east', 'west', 'south']\n",
      "[5, 2.2, 'east', 'west', 5, 2.2, 'east', 'west', 5, 2.2, 'east', 'west', 5, 2.2, 'east', 'west', 5, 2.2, 'east', 'west']\n",
      "False\n",
      "True\n"
     ]
    },
    {
     "data": {
      "text/plain": [
       "[5, 2.2, 'east', 'west']"
      ]
     },
     "execution_count": 9,
     "metadata": {},
     "output_type": "execute_result"
    }
   ],
   "source": [
    "print(new_list + ['south']) # Las listas pueden concatenarse simplemente sumándolas\n",
    "\n",
    "print(new_list*5)          # También pueden multiplicarse\n",
    "\n",
    "print(1 in new_list)       # Revisar pertenencia\n",
    "\n",
    "print(5 in new_list)\n",
    "\n",
    "new_list                   # Si no hubo reasignación \n",
    "                           # estas operaciones no modifican la variable original"
   ]
  },
  {
   "cell_type": "code",
   "execution_count": 31,
   "metadata": {},
   "outputs": [
    {
     "data": {
      "text/plain": [
       "[2.2, 'east']"
      ]
     },
     "execution_count": 31,
     "metadata": {},
     "output_type": "execute_result"
    }
   ],
   "source": [
    "new_list[1:3]        # Seleccionar un rango de elementos se conoce como slicing\n",
    "                     # El límite del rango se ecluye de la selección"
   ]
  },
  {
   "cell_type": "code",
   "execution_count": 10,
   "metadata": {},
   "outputs": [
    {
     "data": {
      "text/plain": [
       "[5, 'north', 2.2, 'east', 'west']"
      ]
     },
     "execution_count": 10,
     "metadata": {},
     "output_type": "execute_result"
    }
   ],
   "source": [
    "new_list.insert(1, 'north') # insert() es otro método, toma dos argumentos\n",
    "                            # el primero debe ser un int e indica el índice \n",
    "                            # donde se insertará el nuevo objeto\n",
    "new_list"
   ]
  },
  {
   "cell_type": "code",
   "execution_count": 11,
   "metadata": {},
   "outputs": [
    {
     "name": "stdout",
     "output_type": "stream",
     "text": [
      "Help on built-in function remove:\n",
      "\n",
      "remove(value, /) method of builtins.list instance\n",
      "    Remove first occurrence of value.\n",
      "    \n",
      "    Raises ValueError if the value is not present.\n",
      "\n"
     ]
    },
    {
     "data": {
      "text/plain": [
       "[5, 'north', 'east', 'west']"
      ]
     },
     "execution_count": 11,
     "metadata": {},
     "output_type": "execute_result"
    }
   ],
   "source": [
    "help(new_list.remove) # help() es la función para acceder a la documentación\n",
    "                      # pueden revisar lo que hacen todos los métodos de las listas\n",
    "new_list.remove(2.2)\n",
    "new_list"
   ]
  },
  {
   "cell_type": "code",
   "execution_count": 51,
   "metadata": {
    "collapsed": true
   },
   "outputs": [],
   "source": [
    "other_list = list('5') # Same shit as []"
   ]
  },
  {
   "cell_type": "code",
   "execution_count": 12,
   "metadata": {
    "collapsed": true
   },
   "outputs": [],
   "source": [
    "b_list = [i for i in range(0, 10)] # 'list comprenhension'; algo más avanzado"
   ]
  },
  {
   "cell_type": "markdown",
   "metadata": {},
   "source": [
    "##  Tupple"
   ]
  },
  {
   "cell_type": "markdown",
   "metadata": {},
   "source": [
    "Los tupples son parecidos a las listas en que son colecciones heterogéneas de objetos, sin embargo, difieren en que los tupples (o tuplas) no son mutables. Esto quiere decir que no su contenido no puede ser modificado (re-asignado) después de crearse.\n",
    "\n",
    "Esta diferencia puede parecer trivial icialmente, pero resulta muy útil cuando uno quiere asegurarse de que el contenido de una objeto no pueda ser cambiado por uno mismo ó, aún más crucial, por funciones que apliquemos a nuestra variable y no estemos seguros de si trabajará automáticamente en una copia de los datos ó tal vez tratará de modificar los datos originales si no somos cuidadosos."
   ]
  },
  {
   "cell_type": "code",
   "execution_count": 57,
   "metadata": {
    "collapsed": true
   },
   "outputs": [],
   "source": [
    "a_tupple = (1, 2, 3.5, 'est') # Estructuras heterogeneas NO mutables"
   ]
  },
  {
   "cell_type": "code",
   "execution_count": 58,
   "metadata": {},
   "outputs": [
    {
     "data": {
      "text/plain": [
       "(1, 2, 3.5, 'est')"
      ]
     },
     "execution_count": 58,
     "metadata": {},
     "output_type": "execute_result"
    }
   ],
   "source": [
    "a_tupple"
   ]
  },
  {
   "cell_type": "code",
   "execution_count": 59,
   "metadata": {},
   "outputs": [
    {
     "ename": "TypeError",
     "evalue": "'tuple' object does not support item assignment",
     "output_type": "error",
     "traceback": [
      "\u001b[1;31m---------------------------------------------------------------------------\u001b[0m",
      "\u001b[1;31mTypeError\u001b[0m                                 Traceback (most recent call last)",
      "\u001b[1;32m<ipython-input-59-8e542ccc42ca>\u001b[0m in \u001b[0;36m<module>\u001b[1;34m()\u001b[0m\n\u001b[1;32m----> 1\u001b[1;33m \u001b[0ma_tupple\u001b[0m\u001b[1;33m[\u001b[0m\u001b[1;36m0\u001b[0m\u001b[1;33m]\u001b[0m \u001b[1;33m=\u001b[0m \u001b[1;36m5\u001b[0m\u001b[1;33m\u001b[0m\u001b[0m\n\u001b[0m",
      "\u001b[1;31mTypeError\u001b[0m: 'tuple' object does not support item assignment"
     ]
    }
   ],
   "source": [
    "a_tupple[0] = 5"
   ]
  },
  {
   "cell_type": "code",
   "execution_count": 60,
   "metadata": {},
   "outputs": [
    {
     "data": {
      "text/plain": [
       "'est'"
      ]
     },
     "execution_count": 60,
     "metadata": {},
     "output_type": "execute_result"
    }
   ],
   "source": [
    "a_tupple[-1]"
   ]
  },
  {
   "cell_type": "markdown",
   "metadata": {},
   "source": [
    "## Dictionary"
   ]
  },
  {
   "cell_type": "markdown",
   "metadata": {},
   "source": [
    "El diccionario es una de las estructuras de datos incorporadas a Python base más útiles y versátiles. Los diccionarios son ampliamente usados tanto en su forma orginal como sustrato para crear otras estructuras especializadas (e.g. pd.DataFrame).\n",
    "\n",
    "Los diccionarios son collecciones de pares de llaves y valores, separados por (:) y todo el diccionario s eencierra en llaves {}, {key:value pairs}. Las llaves deben ser un tipo de variable no mutable (i.e. string, tupple o int), los valores pueden ser cualquier cosa, incluso diccionarios.\n",
    "\n",
    "Los diccionarios son indexables pero no son ordenados, de modo que la forma correcta de indexar un diccionario es usar las llaves."
   ]
  },
  {
   "cell_type": "code",
   "execution_count": 44,
   "metadata": {
    "collapsed": true
   },
   "outputs": [],
   "source": [
    "a_dic = {'a': 1, 'b': 2, ('s', 5): [1, 4, 6, 'o'], 1: {1,2,3,4,5}} # Conjunto heterogéneo de pares (key:value)"
   ]
  },
  {
   "cell_type": "code",
   "execution_count": 45,
   "metadata": {},
   "outputs": [
    {
     "data": {
      "text/plain": [
       "{'a': 1, 'b': 2, ('s', 5): [1, 4, 6, 'o'], 1: {1, 2, 3, 4, 5}}"
      ]
     },
     "execution_count": 45,
     "metadata": {},
     "output_type": "execute_result"
    }
   ],
   "source": [
    "a_dic"
   ]
  },
  {
   "cell_type": "code",
   "execution_count": 46,
   "metadata": {},
   "outputs": [
    {
     "data": {
      "text/plain": [
       "{1, 2, 3, 4, 5}"
      ]
     },
     "execution_count": 46,
     "metadata": {},
     "output_type": "execute_result"
    }
   ],
   "source": [
    "a_dic[1]"
   ]
  },
  {
   "cell_type": "code",
   "execution_count": 66,
   "metadata": {},
   "outputs": [
    {
     "data": {
      "text/plain": [
       "1"
      ]
     },
     "execution_count": 66,
     "metadata": {},
     "output_type": "execute_result"
    }
   ],
   "source": [
    "a_dic['a']"
   ]
  },
  {
   "cell_type": "code",
   "execution_count": 67,
   "metadata": {},
   "outputs": [
    {
     "data": {
      "text/plain": [
       "True"
      ]
     },
     "execution_count": 67,
     "metadata": {},
     "output_type": "execute_result"
    }
   ],
   "source": [
    "1 in a_dic['d'] # revisar la existencia de 1 en los valores de 'd'"
   ]
  },
  {
   "cell_type": "code",
   "execution_count": 79,
   "metadata": {},
   "outputs": [
    {
     "ename": "TypeError",
     "evalue": "'set' object does not support indexing",
     "output_type": "error",
     "traceback": [
      "\u001b[1;31m---------------------------------------------------------------------------\u001b[0m",
      "\u001b[1;31mTypeError\u001b[0m                                 Traceback (most recent call last)",
      "\u001b[1;32m<ipython-input-79-fa210c2296d5>\u001b[0m in \u001b[0;36m<module>\u001b[1;34m()\u001b[0m\n\u001b[1;32m----> 1\u001b[1;33m \u001b[0ma_dic\u001b[0m\u001b[1;33m[\u001b[0m\u001b[1;34m'd'\u001b[0m\u001b[1;33m]\u001b[0m\u001b[1;33m[\u001b[0m\u001b[1;33m-\u001b[0m\u001b[1;36m1\u001b[0m\u001b[1;33m]\u001b[0m\u001b[1;33m\u001b[0m\u001b[0m\n\u001b[0m",
      "\u001b[1;31mTypeError\u001b[0m: 'set' object does not support indexing"
     ]
    }
   ],
   "source": [
    "a_dic['d'][-1]"
   ]
  },
  {
   "cell_type": "code",
   "execution_count": 82,
   "metadata": {
    "collapsed": true
   },
   "outputs": [],
   "source": [
    "set_a = {1, 2, 3}\n",
    "set_b = {3, 4, 5}"
   ]
  },
  {
   "cell_type": "code",
   "execution_count": 83,
   "metadata": {},
   "outputs": [
    {
     "data": {
      "text/plain": [
       "True"
      ]
     },
     "execution_count": 83,
     "metadata": {},
     "output_type": "execute_result"
    }
   ],
   "source": [
    "1 in set_a"
   ]
  },
  {
   "cell_type": "code",
   "execution_count": 84,
   "metadata": {},
   "outputs": [
    {
     "data": {
      "text/plain": [
       "False"
      ]
     },
     "execution_count": 84,
     "metadata": {},
     "output_type": "execute_result"
    }
   ],
   "source": [
    "1 in set_b"
   ]
  },
  {
   "cell_type": "code",
   "execution_count": 87,
   "metadata": {},
   "outputs": [
    {
     "data": {
      "text/plain": [
       "{1, 2}"
      ]
     },
     "execution_count": 87,
     "metadata": {},
     "output_type": "execute_result"
    }
   ],
   "source": [
    "set_a.difference(set_b)"
   ]
  },
  {
   "cell_type": "code",
   "execution_count": 89,
   "metadata": {},
   "outputs": [
    {
     "data": {
      "text/plain": [
       "{3, 4, 5}"
      ]
     },
     "execution_count": 89,
     "metadata": {},
     "output_type": "execute_result"
    }
   ],
   "source": [
    "set_a and set_b"
   ]
  },
  {
   "cell_type": "code",
   "execution_count": 90,
   "metadata": {},
   "outputs": [
    {
     "data": {
      "text/plain": [
       "{1, 2, 3, 4, 5}"
      ]
     },
     "execution_count": 90,
     "metadata": {},
     "output_type": "execute_result"
    }
   ],
   "source": [
    "set_a.union(set_b)"
   ]
  },
  {
   "cell_type": "markdown",
   "metadata": {},
   "source": [
    "# Control de flujo"
   ]
  },
  {
   "cell_type": "markdown",
   "metadata": {},
   "source": [
    "## Control secuencial\n",
    "\n",
    "El control secuencial es simplemente escribir una serie de líneas de código. \n",
    "Cada línea se ejecutará sucesivamete, bye."
   ]
  },
  {
   "cell_type": "code",
   "execution_count": 15,
   "metadata": {},
   "outputs": [
    {
     "data": {
      "text/plain": [
       "True"
      ]
     },
     "execution_count": 15,
     "metadata": {},
     "output_type": "execute_result"
    }
   ],
   "source": [
    "b = 0\n",
    "b += 1   # += es un operador de adición sobre un valor previo\n",
    "b += 1\n",
    "b == 2"
   ]
  },
  {
   "cell_type": "markdown",
   "metadata": {},
   "source": [
    "## For loop (bucle)\n",
    "\n",
    "El for loop es tal vez la estructura de control más conocida. \n",
    "En la estructura de un for loop debemos especificar de alguna manera el número veces en que debe ser ejecutado y una serie de instrucciones a ejecutarse en cada ciclo.\n",
    "\n",
    "En Python, los for loops no requieren ninguna comando para cerrarse (e.g. 'end'). En cambio la estructura del control de flujo se determina con niveles de indentación. Este es un tema común en Python, la indentación define bloques de código que conforman unidades coherentes para su ejecución y reemplaza a ciertas palabras clave en otros lenguajes."
   ]
  },
  {
   "cell_type": "code",
   "execution_count": 21,
   "metadata": {},
   "outputs": [
    {
     "name": "stdout",
     "output_type": "stream",
     "text": [
      "0\n",
      "1\n",
      "2\n",
      "3\n",
      "4\n",
      "5\n",
      "6\n",
      "7\n",
      "8\n",
      "9\n",
      "Hello World\n"
     ]
    }
   ],
   "source": [
    "for ii in range(10): # número de ciclos == número de elementos en range(10)\n",
    "    print(ii)        # la indentación indica que esta línea pertenece al for loop\n",
    "print('Hello World') # no es necesario cerrar el loop"
   ]
  },
  {
   "cell_type": "markdown",
   "metadata": {},
   "source": [
    "# Funciones\n",
    "\n",
    "Las funciones son objetos que ejecutan una serie de instrucciones sobre otros objetos que pasemos como argumentos."
   ]
  },
  {
   "cell_type": "code",
   "execution_count": 23,
   "metadata": {},
   "outputs": [
    {
     "name": "stdout",
     "output_type": "stream",
     "text": [
      "Hello World\n"
     ]
    }
   ],
   "source": [
    "print('Hello World') # print() es una función incorporada, admite solo un argumento\n",
    "                     # su función es desplegar en pantalla lo que se pase por argumento"
   ]
  },
  {
   "cell_type": "markdown",
   "metadata": {},
   "source": [
    "## Declaración de funciones\n",
    "\n",
    "En Python las funciones pueden declararse en cualquier parte del script y pueden usarse inmediatamente después de ser declaradas.\n",
    "\n",
    "La palabra clave para declarar una función es def, seguida por el nombre que se le quiera dar a la función terminando con (). Los nombres para las funciones siguen las mismas reglas que para las variables (i.e. deben empezar con una letra).\n",
    "\n",
    "Al igual que para los loops, al ceclarar funciones la indentación es importante y define las líneas de código que integran la función."
   ]
  },
  {
   "cell_type": "code",
   "execution_count": 24,
   "metadata": {},
   "outputs": [
    {
     "name": "stdout",
     "output_type": "stream",
     "text": [
      "2\n"
     ]
    }
   ],
   "source": [
    "def first_function(x):# nuestra primera función\n",
    "    x = x*2            # toma el argumento (x) y la multipla por dos\n",
    "    print(x)           # llama a la función print() para desplegar el nuevo valor de x\n",
    "\n",
    "first_function(1)"
   ]
  },
  {
   "cell_type": "code",
   "execution_count": 26,
   "metadata": {},
   "outputs": [
    {
     "name": "stdout",
     "output_type": "stream",
     "text": [
      "12\n"
     ]
    }
   ],
   "source": [
    "first_function(6)"
   ]
  },
  {
   "cell_type": "code",
   "execution_count": 35,
   "metadata": {},
   "outputs": [
    {
     "data": {
      "text/plain": [
       "(25, 8)"
      ]
     },
     "execution_count": 35,
     "metadata": {},
     "output_type": "execute_result"
    }
   ],
   "source": [
    "def other_func(x, y):\n",
    "    z = x**2\n",
    "    aa = x+y\n",
    "    return z, aa\n",
    "other_func(y = 3, x = 5)"
   ]
  },
  {
   "cell_type": "code",
   "execution_count": 41,
   "metadata": {},
   "outputs": [
    {
     "name": "stdout",
     "output_type": "stream",
     "text": [
      "2.5\n",
      "2\n",
      "1\n"
     ]
    }
   ],
   "source": [
    "print(5/2)  # división exacta\n",
    "print(5//2) # división entero\n",
    "print(5%2)  # división residual"
   ]
  },
  {
   "cell_type": "markdown",
   "metadata": {},
   "source": [
    "Define una función que tome un número como argumento y regrese un string que diga si es par o non."
   ]
  },
  {
   "cell_type": "code",
   "execution_count": 67,
   "metadata": {
    "collapsed": true
   },
   "outputs": [],
   "source": [
    "def numero_par(x):\n",
    "    if x%2 == 0:\n",
    "        print('par')\n",
    "    else:\n",
    "        print('non')"
   ]
  },
  {
   "cell_type": "code",
   "execution_count": 90,
   "metadata": {
    "collapsed": true
   },
   "outputs": [],
   "source": [
    "a = [1, 1, 2, 3, 5, 8, 13, 21, 34, 55, 89] "
   ]
  },
  {
   "cell_type": "markdown",
   "metadata": {},
   "source": [
    "Escribe un for loop que evalue cada elemento de la lista y lo imprima si y solo si es menor a 10.\n",
    "Puedes usar if y print. Debe ser todo lo que necesites."
   ]
  },
  {
   "cell_type": "code",
   "execution_count": 74,
   "metadata": {},
   "outputs": [
    {
     "name": "stdout",
     "output_type": "stream",
     "text": [
      "1\n",
      "1\n",
      "2\n",
      "3\n",
      "5\n",
      "8\n"
     ]
    }
   ],
   "source": [
    "for numero in a:\n",
    "    if numero < 10:\n",
    "        print(numero)"
   ]
  },
  {
   "cell_type": "markdown",
   "metadata": {},
   "source": [
    "Crea un for loop que usando enumerate() evalue cada elemento y regrese una lista 'ab' que contenga los valores de a menores a 10"
   ]
  },
  {
   "cell_type": "code",
   "execution_count": 96,
   "metadata": {
    "scrolled": true
   },
   "outputs": [
    {
     "data": {
      "text/plain": [
       "[1, 1, 2, 3, 5, 8]"
      ]
     },
     "execution_count": 96,
     "metadata": {},
     "output_type": "execute_result"
    }
   ],
   "source": [
    "ab = []\n",
    "for ii in enumerate(a):\n",
    "    if ii[1] < 10:\n",
    "       a_ind = ii[0] +1\n",
    "a[0:a_ind]\n"
   ]
  },
  {
   "cell_type": "code",
   "execution_count": 97,
   "metadata": {
    "collapsed": true
   },
   "outputs": [],
   "source": [
    "aa = [5, 10, 15, 20, 25]"
   ]
  },
  {
   "cell_type": "markdown",
   "metadata": {},
   "source": [
    "Escribe una función que tome un argumento, una lista, y cree una nueva lista que contengan solo el primer y el ultimo elemento de la lista original."
   ]
  },
  {
   "cell_type": "code",
   "execution_count": 109,
   "metadata": {
    "collapsed": true
   },
   "outputs": [],
   "source": [
    "def nueva_lista(x):\n",
    "    '''[list -> list]\n",
    "    Crea una nueva lista que contiene cada tercer elemento de la lista original.\n",
    "    Pista: len() da el tamaño del objeto'''\n",
    "    new_list = []\n",
    "    for ii in range(len(x)+1):\n",
    "        if ii%2 == 0:\n",
    "            new_list.append(x[ii])\n",
    "    \n",
    "    return new_list"
   ]
  },
  {
   "cell_type": "code",
   "execution_count": 110,
   "metadata": {},
   "outputs": [
    {
     "data": {
      "text/plain": [
       "[5, 15, 25]"
      ]
     },
     "execution_count": 110,
     "metadata": {},
     "output_type": "execute_result"
    }
   ],
   "source": [
    "nueva_lista(aa)"
   ]
  },
  {
   "cell_type": "code",
   "execution_count": 73,
   "metadata": {
    "collapsed": true
   },
   "outputs": [],
   "source": [
    "ac = [1, 1, 2, 3, 5, 8, 13, 21, 34, 55, 89]\n",
    "ba = [1, 2, 3, 4, 5, 6, 7, 8, 9, 10, 11, 12, 13]"
   ]
  },
  {
   "cell_type": "markdown",
   "metadata": {},
   "source": [
    "Escribe un programa (función o celda, no importa) que cree una nueva lista que contenga los elementos comunes a ambas listas (ac y ba) SIN REPETICIONES.\n",
    "\n",
    "Extra: Trata de optimizar tu solución previa y hacerlo en una sola línea."
   ]
  },
  {
   "cell_type": "code",
   "execution_count": 95,
   "metadata": {},
   "outputs": [
    {
     "data": {
      "text/plain": [
       "[1, 2, 3, 5, 8, 13]"
      ]
     },
     "execution_count": 95,
     "metadata": {},
     "output_type": "execute_result"
    }
   ],
   "source": [
    "cb = []    # solución rápida\n",
    "for ii in ac:\n",
    "    if ii in ba:\n",
    "        if ii not in cb:\n",
    "            cb.append(ii)\n",
    "cb"
   ]
  },
  {
   "cell_type": "code",
   "execution_count": 105,
   "metadata": {},
   "outputs": [
    {
     "data": {
      "text/plain": [
       "[1, 2, 3, 5, 8, 13]"
      ]
     },
     "execution_count": 105,
     "metadata": {},
     "output_type": "execute_result"
    }
   ],
   "source": [
    "cb = list(set(ac) & set(ba)) # one-liner\n",
    "cb # usando el generador list() que Jon dijo que no servía para nada"
   ]
  },
  {
   "cell_type": "markdown",
   "metadata": {},
   "source": [
    "Encuentra todos los divisores exactos de 42!!\n",
    "\n",
    "Escribe un código, (celda, función, for loop, etc.) que encuentre todos los divisores exactos de 42 y los guarde en una lista.\n",
    "\n",
    "Recuerda: Dividir entre 0 arroja un error!!\n",
    "Pista: La respuesta es [1,3,7,9,21,63]"
   ]
  },
  {
   "cell_type": "markdown",
   "metadata": {},
   "source": [
    "Crea dos listas de la misma dimensión (mismo número de elementos) y crea un código que sume cada elemento de una lista con su correspondiente índice en la otra lista.\n",
    "Ejemplo:\n",
    "a = [1, 2, 3]\n",
    "b = [2, 3, 4]\n",
    "c = [3, 5, 7]\n",
    "\n",
    "Extra: Usa list comprenhension para hacerlo en una sola línea de código."
   ]
  },
  {
   "cell_type": "markdown",
   "metadata": {},
   "source": [
    "## Ejercicios de electrofisiología\n",
    "\n",
    "## Análisis de potencial local de campo (LFP); periodograma y espectrograma\n",
    "\n",
    "Pero antes....\n",
    "¿Cómo abrir un archivo con un registro electrofisiológico? \n",
    "\n",
    "Como con todo en computación, hay muchas maneras. Nos enfocaremos en archivos .abf (Axon, Molecular Devices) y cómo abrirlos de manera que obtengamos un objeto que explícitamente tenga la estructura y propiedades de un registro electrofisiológico. Para esto importaremos algunas bibliotecas nuevas (neo) y veremos que Scipy tiene incluidas varias funciones para el análisis espectral."
   ]
  },
  {
   "cell_type": "code",
   "execution_count": 3,
   "metadata": {},
   "outputs": [],
   "source": [
    "import numpy as np\n",
    "import scipy as sp\n",
    "import matplotlib.pyplot as plt\n",
    "import neo"
   ]
  },
  {
   "cell_type": "code",
   "execution_count": 49,
   "metadata": {},
   "outputs": [],
   "source": [
    "eg_rec = neo.io.AxonIO('/Users/felipeantoniomendezsalcido/Desktop/FrChPilo_Luz20min_11_BasalLuzPilo_0004.abf')"
   ]
  },
  {
   "cell_type": "code",
   "execution_count": 9,
   "metadata": {},
   "outputs": [],
   "source": [
    "import os"
   ]
  },
  {
   "cell_type": "code",
   "execution_count": 53,
   "metadata": {},
   "outputs": [
    {
     "name": "stderr",
     "output_type": "stream",
     "text": [
      "the default signal_group_mode will change from 'split-all' to 'group-by-same-units' in next release\n"
     ]
    }
   ],
   "source": [
    "eg_signals = eg_rec.read_block(lazy=False)"
   ]
  },
  {
   "cell_type": "code",
   "execution_count": 54,
   "metadata": {},
   "outputs": [
    {
     "data": {
      "text/plain": [
       "Block with 1 segments, 2 channel_indexes\n",
       "annotations: {'abf_version': 2.6}\n",
       "file_origin: '/Users/felipeantoniomendezsalcido/Desktop/FrChPilo_Luz20min_11_BasalLuzPilo_0004.abf'\n",
       "rec_datetime: datetime.datetime(2019, 9, 12, 17, 49, 31, 468000)\n",
       "# segments (N=1)\n",
       "0: Segment with 2 analogsignals, 1 events\n",
       "   annotations: {'abf_version': 2.6}\n",
       "   # analogsignals (N=2)\n",
       "   0: AnalogSignal with 1 channels of length 5222178; units uV; datatype float32 \n",
       "      name: 'IN0'\n",
       "      annotations: {'channel_id': 0, 'nADCNum': 0}\n",
       "      sampling rate: 1000.0\n",
       "      time: 0.0 to 5222.178\n",
       "   1: AnalogSignal with 1 channels of length 5222178; units uV; datatype float32 \n",
       "      name: 'IN1'\n",
       "      annotations: {'channel_id': 1, 'nADCNum': 1}\n",
       "      sampling rate: 1000.0\n",
       "      time: 0.0 to 5222.178"
      ]
     },
     "execution_count": 54,
     "metadata": {},
     "output_type": "execute_result"
    }
   ],
   "source": [
    "eg_signals"
   ]
  },
  {
   "cell_type": "code",
   "execution_count": 94,
   "metadata": {},
   "outputs": [
    {
     "data": {
      "image/png": "[encoded data removed]",
      "text/plain": [
       "<Figure size 1008x576 with 3 Axes>"
      ]
     },
     "metadata": {
      "needs_background": "light"
     },
     "output_type": "display_data"
    }
   ],
   "source": [
    "fig_1 = plt.figure(figsize = (14,8))\n",
    "plt.subplot(3,1,1)\n",
    "sig_1 = plt.plot(eg_signals.segments[0].analogsignals[0].as_array()[0:1000])\n",
    "plt.subplot(3,1,2)\n",
    "\n",
    "plt.subplot(3,1,3)\n",
    "sig_2 = plt.plot(eg_signals.segments[0].analogsignals[1].as_array()[0:1000])"
   ]
  },
  {
   "cell_type": "code",
   "execution_count": null,
   "metadata": {},
   "outputs": [],
   "source": []
  },
  {
   "cell_type": "code",
   "execution_count": null,
   "metadata": {},
   "outputs": [],
   "source": []
  }
 ],
 "metadata": {
  "anaconda-cloud": {},
  "kernelspec": {
   "display_name": "Python [conda env:py3] *",
   "language": "python",
   "name": "conda-env-py3-py"
  },
  "language_info": {
   "codemirror_mode": {
    "name": "ipython",
    "version": 3
   },
   "file_extension": ".py",
   "mimetype": "text/x-python",
   "name": "python",
   "nbconvert_exporter": "python",
   "pygments_lexer": "ipython3",
   "version": "3.6.8"
  }
 },
 "nbformat": 4,
 "nbformat_minor": 2
}
