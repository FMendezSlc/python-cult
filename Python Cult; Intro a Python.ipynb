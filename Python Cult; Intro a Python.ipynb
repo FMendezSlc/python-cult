{
 "cells": [
  {
   "cell_type": "markdown",
   "metadata": {},
   "source": [
    "# Python"
   ]
  },
  {
   "cell_type": "markdown",
   "metadata": {},
   "source": [
    "## Un poco de historia"
   ]
  },
  {
   "cell_type": "markdown",
   "metadata": {},
   "source": [
    "Python en un lenguaje de programación de 'alto nivel' (básicamente interpretado, no requiere compilación) creado por Guido van Rossum a finales de los 80 en los Paises Bajos. \n",
    "\n",
    "Durante los 90 fue desasrrollado y mantenido como un proyecto abierto en el Intituto Nacional de Matemáticas y Ciencias Computacionales y en 2000 fue lazado python 2 y fue adoptado rápidamente por múltiples grupos de desarrolladores de diversas áreas; animación,  gaming,  aplicaciones, páginas web, etc.\n",
    "\n",
    "Python fue desarrollado como un leguaje general, sin un propósito específico, a diferencia de R o MATLAB cuya estructura y organización reflejan claramente el propósito y la demografía para los que fueron creados. Esto implica que Python ha crecido en todo el espectro de posibles aplicaciones de un lenguaje de programación y el cómputo científico no es la excepción, especialmente en la última década.\n",
    "\n",
    "En este sentido se han desarrollado en Python varias bibliotecas específicamente con el objetivo de realizar trabajo científico, no sólo tareas de cómputo numérico de alta demanda (matrices and shit)(Numpy), sino además gráficos altamente descriptivos (anotaciones, multiples páneles, etc.)  (matplotlib), manipulación y análisis de datos (Pandas), gráficos estadísticos (Seaborn), análisis y procesamiento de señales (Scipy), simulaciones (Simpy), organización y análisis de señales electrofiológicas (elephant), incluso hay programas para manejar amplificadores y adiquirir señales de patch-clamp desarrollado totalmente en Python."
   ]
  },
  {
   "cell_type": "markdown",
   "metadata": {},
   "source": [
    "## ¿Por qué aprender a programar?"
   ]
  },
  {
   "cell_type": "markdown",
   "metadata": {},
   "source": [
    "La respuesta sencilla: estas en una gran desventaja como científico en este momento si no sabes programar. \n",
    "\n",
    "¿Has leído algún paper con un método de análisis remamón altamente novedoso resumido en un parrafito? Olvídate de que este implementado en Clampfit o Sigma.\n",
    "\n",
    "¿Has tenido que realizar la peregrinación por 4 o 5 programas de software de propietario diferentes para poder realizar un experimento, extraer datos, limpiarlos, realizar estadística (por básica que sea) y hacer grafiquitas que después todavía tendrás que hermosear en un editor de gráficos para hacer un figura?\n",
    "\n",
    "¿Está tu computadora llena de versiones pirata de estos programas porque de otra forma no podrías ni trabajar?\n",
    "\n",
    "Hay múltiples razones por las que esta era la forma prevalente de trabajar muchísima gente; codicia corporativa, inercia, fé ciega en soluciones prefabricadas, etc. Sin embargo, la principal razón en esta era es simplemente incompetencia computacional.\n",
    "Todas estas tareas pueden realizarse en un solo ambiente con una claridad y reproducibilidad y con un gran nivel de eficiencia una vez superada la curva de apredizaje.\n",
    "\n",
    "La habilidad de escribir código, programar, es una de las habilidades técnicas más valoradas en nuestra época. Las aplicaciones de la programación son literalmente infinitas. Adicionalmente, integrar la programación en tu flujo de trabajo científico desarrolla paralelamente otras habilidades y aptitudes como disciplina (ese código no se va a escribir por sí mismo),  organización y sofisticación técnica."
   ]
  },
  {
   "cell_type": "markdown",
   "metadata": {},
   "source": [
    "## ¿Por qué Python?"
   ]
  },
  {
   "cell_type": "markdown",
   "metadata": {},
   "source": [
    "Python, como ya se mencionó, es un lenguaje de programación de propósito general. Esta es una característica que no puede ser sobrestimada y forma parte de los conceptos centrales alrededor de los cuales fue desarrollado Python junto con un alto énfasis en la legibilidad del código y en la sencillez de las implementaciones. Estos principios influyen ampliamente en la forma en que la comunidad de Python colabora y escribe código y se encuentran estipulados en lo que se conoce como el zen de Python.\n",
    "\n",
    "### The Zen of Python\n",
    "\n",
    "Beautiful is better than ugly.\n",
    "\n",
    "Explicit is better than implicit.\n",
    "\n",
    "Simple is better than complex.\n",
    "\n",
    "Complex is better than complicated.\n",
    "\n",
    "Flat is better than nested.\n",
    "\n",
    "Sparse is better than dense.\n",
    "\n",
    "Readability counts.\n",
    "\n",
    "Special cases aren't special enough to break the rules.\n",
    "\n",
    "Although practicality beats purity.\n",
    "\n",
    "Errors should never pass silently.\n",
    "\n",
    "Unless explicitly silenced.\n",
    "\n",
    "In the face of ambiguity, refuse the temptation to guess.\n",
    "\n",
    "There should be one-- and preferably only one --obvious way to do it.\n",
    "\n",
    "Although that way may not be obvious at first unless you're Dutch.\n",
    "\n",
    "Now is better than never.\n",
    "\n",
    "Although never is often better than *right* now.\n",
    "\n",
    "If the implementation is hard to explain, it's a bad idea.\n",
    "\n",
    "If the implementation is easy to explain, it may be a good idea.\n",
    "\n",
    "Namespaces are one honking great idea -- let's do more of those!\n",
    "\n",
    "Como pueden ver Python tiene principios claros para el desarrollo de código que enfatizan aspectos estéticos y pragmáticos. Además, la comunidad de Python, los libros y bibliotecas desarrollados para Python contienen en general aspectos humorísticos que relajan el discurso y el ambiente de programación que solían ser insufriblemente técnicos y solemnes. \n",
    "De hecho, el nombre de Python deriva de la afición de Guido por Monty Python, el grupo de comedia británico."
   ]
  },
  {
   "cell_type": "markdown",
   "metadata": {},
   "source": [
    "## So, let's get at it"
   ]
  },
  {
   "cell_type": "markdown",
   "metadata": {},
   "source": [
    "Por tradición empezaremos con imprimir en la pantalla una oración: 'Hello World'"
   ]
  },
  {
   "cell_type": "code",
   "execution_count": 3,
   "metadata": {},
   "outputs": [
    {
     "name": "stdout",
     "output_type": "stream",
     "text": [
      "Hello World\n"
     ]
    }
   ],
   "source": [
    "print('Hello World') # print() es una función incorporada en Python base o Python puro\n",
    "                     # acepta un solo argumento, el cual puede ser cualquier cosa y la despliega en pantalla"
   ]
  },
  {
   "cell_type": "markdown",
   "metadata": {},
   "source": [
    "## Asignación de variable"
   ]
  },
  {
   "cell_type": "code",
   "execution_count": 4,
   "metadata": {},
   "outputs": [
    {
     "data": {
      "text/plain": [
       "1"
      ]
     },
     "execution_count": 4,
     "metadata": {},
     "output_type": "execute_result"
    }
   ],
   "source": [
    "a = 1 # 'a' es el nombre de nuestra nueva variable y se le asigna el valor 1(int)\n",
    "      # en Python todos los nombres de variable deben empezar con una letra\n",
    "a     # nos devuelve su valor"
   ]
  },
  {
   "cell_type": "markdown",
   "metadata": {},
   "source": [
    "## Tipos de variable incorporados en Python base"
   ]
  },
  {
   "cell_type": "markdown",
   "metadata": {},
   "source": [
    "Variables númericas principales:"
   ]
  },
  {
   "cell_type": "code",
   "execution_count": 1,
   "metadata": {},
   "outputs": [
    {
     "data": {
      "text/plain": [
       "int"
      ]
     },
     "execution_count": 1,
     "metadata": {},
     "output_type": "execute_result"
    }
   ],
   "source": [
    "type(1) # type() es una función incorporada;\n",
    "        # devuelve el tipo de variable al que corresponde lo que pasemos como argumento"
   ]
  },
  {
   "cell_type": "code",
   "execution_count": 5,
   "metadata": {},
   "outputs": [
    {
     "name": "stdout",
     "output_type": "stream",
     "text": [
      "<class 'int'>\n",
      "<class 'float'>\n"
     ]
    }
   ],
   "source": [
    "# Existen dos tipos principales de variables numéricas: int (integer) y float (decimal)\n",
    "\n",
    "print(type(1))\n",
    "\n",
    "print(type(1.5))"
   ]
  },
  {
   "cell_type": "markdown",
   "metadata": {},
   "source": [
    "Así mismo, Python incorpora las clásicas variables booleanas: ==, !=, >, ≥, ≤, <\n",
    "Todas pueden adquirir los valores True y False"
   ]
  },
  {
   "cell_type": "code",
   "execution_count": 8,
   "metadata": {},
   "outputs": [
    {
     "name": "stdout",
     "output_type": "stream",
     "text": [
      "True\n",
      "True\n",
      "False\n",
      "True\n"
     ]
    }
   ],
   "source": [
    "print(1 == 1) # igualdad\n",
    "print(1 != 2) # desigualdad\n",
    "print(1 > 2)  # menor que\n",
    "print((1 > 2) or (1 < 2)) \n",
    "              # también se encuentran incorporados los operadores comunes: or y and"
   ]
  },
  {
   "cell_type": "markdown",
   "metadata": {},
   "source": [
    "Por último tenemos las 'strings' (cuerdas?), las cuales son series de caracteres entre comillas, (Python acepta comillas simples '' o dobles \"\", indistintamente). Strings aceptan cualqueir tipo de caracter."
   ]
  },
  {
   "cell_type": "code",
   "execution_count": 11,
   "metadata": {},
   "outputs": [
    {
     "name": "stdout",
     "output_type": "stream",
     "text": [
      "this is a string\n"
     ]
    }
   ],
   "source": [
    "a_string = 'this is a string'\n",
    "print(a_string)"
   ]
  },
  {
   "cell_type": "markdown",
   "metadata": {},
   "source": [
    "## Estructuras de datos"
   ]
  },
  {
   "cell_type": "markdown",
   "metadata": {},
   "source": [
    "## Lista"
   ]
  },
  {
   "cell_type": "markdown",
   "metadata": {},
   "source": [
    "Las listas son series heterogéneas y mutables de cero o cualquier número de objetos de Python. Esto quiere decir que son colecciones de objetos o referencias (variables) a objetos de cualquier tipo (i.e. int, float, string, etc) y que pueden ser modificados después de crearse.\n",
    "\n",
    "Se definen como variables u objetos separados por comas y encerrados en corchetes."
   ]
  },
  {
   "cell_type": "code",
   "execution_count": 25,
   "metadata": {},
   "outputs": [
    {
     "data": {
      "text/plain": [
       "[1, 2.2, 'east']"
      ]
     },
     "execution_count": 25,
     "metadata": {},
     "output_type": "execute_result"
    }
   ],
   "source": [
    "new_list = [1, 2.2, 'east'] # Esto es una lista\n",
    "new_list"
   ]
  },
  {
   "cell_type": "markdown",
   "metadata": {},
   "source": [
    "Las listas son mutables; uno puede cambiar su contenido incluso después de crearlas."
   ]
  },
  {
   "cell_type": "code",
   "execution_count": 26,
   "metadata": {},
   "outputs": [
    {
     "data": {
      "text/plain": [
       "[5, 2.2, 'east', 'west']"
      ]
     },
     "execution_count": 26,
     "metadata": {},
     "output_type": "execute_result"
    }
   ],
   "source": [
    "new_list[0] = 5         # en Python usamos [] para indexar \n",
    "                        # (seleccionar un elemento dentro de un estructura) \n",
    "                        # los índices en Python siempre inician en cero; [0] \n",
    "                        # por lo tanto aquí estamos seleccionando y reasignando \n",
    "                        # el primer elemento en la lista\n",
    "\n",
    "\n",
    "new_list.append('west') # append() es un método del objeto lista\n",
    "                        # permite la adición de un nuevo elemento\n",
    "                        # append() solo admite un argumento (el objeto a añadir)\n",
    "                        # append() siempre inserta los nuevos elementos al final\n",
    "new_list"
   ]
  },
  {
   "cell_type": "code",
   "execution_count": 36,
   "metadata": {},
   "outputs": [
    {
     "name": "stdout",
     "output_type": "stream",
     "text": [
      "[5, 2.2, 'east', 'west', 'south']\n",
      "[5, 2.2, 'east', 'west', 5, 2.2, 'east', 'west', 5, 2.2, 'east', 'west', 5, 2.2, 'east', 'west', 5, 2.2, 'east', 'west']\n",
      "False\n",
      "True\n"
     ]
    },
    {
     "data": {
      "text/plain": [
       "[5, 2.2, 'east', 'west']"
      ]
     },
     "execution_count": 36,
     "metadata": {},
     "output_type": "execute_result"
    }
   ],
   "source": [
    "print(new_list + ['south']) # Las listas pueden concatenarse simplemente sumándolas\n",
    "\n",
    "print(new_list*5)          # También pueden multiplicarse\n",
    "\n",
    "print(1 in new_list)       # Revisar pertenencia\n",
    "\n",
    "print(5 in new_list)\n",
    "\n",
    "new_list                   # Si no hubo reasignación \n",
    "                           # estas operaciones no modifican la variable original"
   ]
  },
  {
   "cell_type": "code",
   "execution_count": 31,
   "metadata": {},
   "outputs": [
    {
     "data": {
      "text/plain": [
       "[2.2, 'east']"
      ]
     },
     "execution_count": 31,
     "metadata": {},
     "output_type": "execute_result"
    }
   ],
   "source": [
    "new_list[1:3]        # Seleccionar un rango de elementos se conoce como slicing\n",
    "                     # El límite del rango se ecluye de la selección"
   ]
  },
  {
   "cell_type": "code",
   "execution_count": 22,
   "metadata": {},
   "outputs": [
    {
     "data": {
      "text/plain": [
       "[5, 'north', 2.2, 'east', 'west']"
      ]
     },
     "execution_count": 22,
     "metadata": {},
     "output_type": "execute_result"
    }
   ],
   "source": [
    "new_list.insert(1, 'north') # insert() es otro método, toma dos argumentos\n",
    "                            # el primero debe ser un int e indica el índice \n",
    "                            # donde se insertará el nuevo objeto\n",
    "new_list"
   ]
  },
  {
   "cell_type": "code",
   "execution_count": 42,
   "metadata": {},
   "outputs": [
    {
     "name": "stdout",
     "output_type": "stream",
     "text": [
      "Help on built-in function remove:\n",
      "\n",
      "remove(...) method of builtins.list instance\n",
      "    L.remove(value) -> None -- remove first occurrence of value.\n",
      "    Raises ValueError if the value is not present.\n",
      "\n"
     ]
    },
    {
     "data": {
      "text/plain": [
       "[5, 'east', 'west']"
      ]
     },
     "execution_count": 42,
     "metadata": {},
     "output_type": "execute_result"
    }
   ],
   "source": [
    "help(new_list.remove) # help() es la función para acceder a la documentación\n",
    "                      # pueden revisar lo que hacen todos los métodos de las listas\n",
    "new_list.remove(2.2)\n",
    "new_list"
   ]
  },
  {
   "cell_type": "code",
   "execution_count": 51,
   "metadata": {
    "collapsed": true
   },
   "outputs": [],
   "source": [
    "other_list = list('5') # Same shit as []"
   ]
  },
  {
   "cell_type": "code",
   "execution_count": 55,
   "metadata": {
    "collapsed": true
   },
   "outputs": [],
   "source": [
    "b_list = [i for i in range(0, 10)] # 'list comprenhension'; algo más avanzado"
   ]
  },
  {
   "cell_type": "markdown",
   "metadata": {},
   "source": [
    "##  Tupple"
   ]
  },
  {
   "cell_type": "code",
   "execution_count": 57,
   "metadata": {
    "collapsed": true
   },
   "outputs": [],
   "source": [
    "a_tupple = (1, 2, 3.5, 'est') # Estructuras heterogeneas NO mutables"
   ]
  },
  {
   "cell_type": "code",
   "execution_count": 58,
   "metadata": {},
   "outputs": [
    {
     "data": {
      "text/plain": [
       "(1, 2, 3.5, 'est')"
      ]
     },
     "execution_count": 58,
     "metadata": {},
     "output_type": "execute_result"
    }
   ],
   "source": [
    "a_tupple"
   ]
  },
  {
   "cell_type": "code",
   "execution_count": 59,
   "metadata": {},
   "outputs": [
    {
     "ename": "TypeError",
     "evalue": "'tuple' object does not support item assignment",
     "output_type": "error",
     "traceback": [
      "\u001b[1;31m---------------------------------------------------------------------------\u001b[0m",
      "\u001b[1;31mTypeError\u001b[0m                                 Traceback (most recent call last)",
      "\u001b[1;32m<ipython-input-59-8e542ccc42ca>\u001b[0m in \u001b[0;36m<module>\u001b[1;34m()\u001b[0m\n\u001b[1;32m----> 1\u001b[1;33m \u001b[0ma_tupple\u001b[0m\u001b[1;33m[\u001b[0m\u001b[1;36m0\u001b[0m\u001b[1;33m]\u001b[0m \u001b[1;33m=\u001b[0m \u001b[1;36m5\u001b[0m\u001b[1;33m\u001b[0m\u001b[0m\n\u001b[0m",
      "\u001b[1;31mTypeError\u001b[0m: 'tuple' object does not support item assignment"
     ]
    }
   ],
   "source": [
    "a_tupple[0] = 5"
   ]
  },
  {
   "cell_type": "code",
   "execution_count": 60,
   "metadata": {},
   "outputs": [
    {
     "data": {
      "text/plain": [
       "'est'"
      ]
     },
     "execution_count": 60,
     "metadata": {},
     "output_type": "execute_result"
    }
   ],
   "source": [
    "a_tupple[-1]"
   ]
  },
  {
   "cell_type": "markdown",
   "metadata": {},
   "source": [
    "## Dictionary"
   ]
  },
  {
   "cell_type": "code",
   "execution_count": 63,
   "metadata": {
    "collapsed": true
   },
   "outputs": [],
   "source": [
    "a_dic = {'a': 1, 'b': 2, 'c': [1, 4, 6, 'o'], 'd': {1,2,3,4,5}} # Conjunto heterogéneo de pares (key:value)"
   ]
  },
  {
   "cell_type": "code",
   "execution_count": 64,
   "metadata": {},
   "outputs": [
    {
     "data": {
      "text/plain": [
       "{'a': 1, 'b': 2, 'c': [1, 4, 6, 'o'], 'd': {1, 2, 3, 4, 5}}"
      ]
     },
     "execution_count": 64,
     "metadata": {},
     "output_type": "execute_result"
    }
   ],
   "source": [
    "a_dic"
   ]
  },
  {
   "cell_type": "code",
   "execution_count": 65,
   "metadata": {},
   "outputs": [
    {
     "data": {
      "text/plain": [
       "{1, 2, 3, 4, 5}"
      ]
     },
     "execution_count": 65,
     "metadata": {},
     "output_type": "execute_result"
    }
   ],
   "source": [
    "a_dic['d']"
   ]
  },
  {
   "cell_type": "code",
   "execution_count": 66,
   "metadata": {},
   "outputs": [
    {
     "data": {
      "text/plain": [
       "1"
      ]
     },
     "execution_count": 66,
     "metadata": {},
     "output_type": "execute_result"
    }
   ],
   "source": [
    "a_dic['a']"
   ]
  },
  {
   "cell_type": "code",
   "execution_count": 67,
   "metadata": {},
   "outputs": [
    {
     "data": {
      "text/plain": [
       "True"
      ]
     },
     "execution_count": 67,
     "metadata": {},
     "output_type": "execute_result"
    }
   ],
   "source": [
    "1 in a_dic['d']"
   ]
  },
  {
   "cell_type": "code",
   "execution_count": 79,
   "metadata": {},
   "outputs": [
    {
     "ename": "TypeError",
     "evalue": "'set' object does not support indexing",
     "output_type": "error",
     "traceback": [
      "\u001b[1;31m---------------------------------------------------------------------------\u001b[0m",
      "\u001b[1;31mTypeError\u001b[0m                                 Traceback (most recent call last)",
      "\u001b[1;32m<ipython-input-79-fa210c2296d5>\u001b[0m in \u001b[0;36m<module>\u001b[1;34m()\u001b[0m\n\u001b[1;32m----> 1\u001b[1;33m \u001b[0ma_dic\u001b[0m\u001b[1;33m[\u001b[0m\u001b[1;34m'd'\u001b[0m\u001b[1;33m]\u001b[0m\u001b[1;33m[\u001b[0m\u001b[1;33m-\u001b[0m\u001b[1;36m1\u001b[0m\u001b[1;33m]\u001b[0m\u001b[1;33m\u001b[0m\u001b[0m\n\u001b[0m",
      "\u001b[1;31mTypeError\u001b[0m: 'set' object does not support indexing"
     ]
    }
   ],
   "source": [
    "a_dic['d'][-1]"
   ]
  },
  {
   "cell_type": "code",
   "execution_count": 82,
   "metadata": {
    "collapsed": true
   },
   "outputs": [],
   "source": [
    "set_a = {1, 2, 3}\n",
    "set_b = {3, 4, 5}"
   ]
  },
  {
   "cell_type": "code",
   "execution_count": 83,
   "metadata": {},
   "outputs": [
    {
     "data": {
      "text/plain": [
       "True"
      ]
     },
     "execution_count": 83,
     "metadata": {},
     "output_type": "execute_result"
    }
   ],
   "source": [
    "1 in set_a"
   ]
  },
  {
   "cell_type": "code",
   "execution_count": 84,
   "metadata": {},
   "outputs": [
    {
     "data": {
      "text/plain": [
       "False"
      ]
     },
     "execution_count": 84,
     "metadata": {},
     "output_type": "execute_result"
    }
   ],
   "source": [
    "1 in set_b"
   ]
  },
  {
   "cell_type": "code",
   "execution_count": 87,
   "metadata": {},
   "outputs": [
    {
     "data": {
      "text/plain": [
       "{1, 2}"
      ]
     },
     "execution_count": 87,
     "metadata": {},
     "output_type": "execute_result"
    }
   ],
   "source": [
    "set_a.difference(set_b)"
   ]
  },
  {
   "cell_type": "code",
   "execution_count": 89,
   "metadata": {},
   "outputs": [
    {
     "data": {
      "text/plain": [
       "{3, 4, 5}"
      ]
     },
     "execution_count": 89,
     "metadata": {},
     "output_type": "execute_result"
    }
   ],
   "source": [
    "set_a and set_b"
   ]
  },
  {
   "cell_type": "code",
   "execution_count": 90,
   "metadata": {},
   "outputs": [
    {
     "data": {
      "text/plain": [
       "{1, 2, 3, 4, 5}"
      ]
     },
     "execution_count": 90,
     "metadata": {},
     "output_type": "execute_result"
    }
   ],
   "source": [
    "set_a.union(set_b)"
   ]
  },
  {
   "cell_type": "markdown",
   "metadata": {},
   "source": [
    "# Métodos"
   ]
  },
  {
   "cell_type": "markdown",
   "metadata": {},
   "source": [
    "## For loops"
   ]
  },
  {
   "cell_type": "code",
   "execution_count": null,
   "metadata": {
    "collapsed": true
   },
   "outputs": [],
   "source": []
  }
 ],
 "metadata": {
  "kernelspec": {
   "display_name": "Python [conda env:py3]",
   "language": "python",
   "name": "conda-env-py3-py"
  },
  "language_info": {
   "codemirror_mode": {
    "name": "ipython",
    "version": 3
   },
   "file_extension": ".py",
   "mimetype": "text/x-python",
   "name": "python",
   "nbconvert_exporter": "python",
   "pygments_lexer": "ipython3",
   "version": "3.6.8"
  }
 },
 "nbformat": 4,
 "nbformat_minor": 2
}
